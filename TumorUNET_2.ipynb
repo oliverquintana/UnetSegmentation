{
  "nbformat": 4,
  "nbformat_minor": 0,
  "metadata": {
    "colab": {
      "name": "TumorUNET_2.ipynb",
      "provenance": [],
      "collapsed_sections": [],
      "toc_visible": true,
      "include_colab_link": true
    },
    "kernelspec": {
      "name": "python3",
      "display_name": "Python 3"
    },
    "accelerator": "GPU"
  },
  "cells": [
    {
      "cell_type": "markdown",
      "metadata": {
        "id": "view-in-github",
        "colab_type": "text"
      },
      "source": [
        "<a href=\"https://colab.research.google.com/github/oliverquintana/UnetSegmentation/blob/master/TumorUNET_2.ipynb\" target=\"_parent\"><img src=\"https://colab.research.google.com/assets/colab-badge.svg\" alt=\"Open In Colab\"/></a>"
      ]
    },
    {
      "cell_type": "markdown",
      "metadata": {
        "id": "92rEMt9oo-Gy",
        "colab_type": "text"
      },
      "source": [
        "# UNET Tumor Segmentation"
      ]
    },
    {
      "cell_type": "markdown",
      "metadata": {
        "id": "iUtzbqcogYXz",
        "colab_type": "text"
      },
      "source": [
        "# Load libraries"
      ]
    },
    {
      "cell_type": "code",
      "metadata": {
        "id": "U1wX9XxQZdFz",
        "colab_type": "code",
        "outputId": "d878dd31-1d54-4944-db35-75464b069ec1",
        "colab": {
          "base_uri": "https://localhost:8080/",
          "height": 101
        }
      },
      "source": [
        "from google.colab import drive\n",
        "drive.mount('/content/drive')\n",
        "\n",
        "import matplotlib.pyplot as plt\n",
        "from tensorflow.keras.models import Model\n",
        "from tensorflow.keras import backend as K\n",
        "from tensorflow.keras import metrics\n",
        "from tensorflow.keras.datasets import mnist\n",
        "from tensorflow.keras.layers import Input, Dense, Conv2D, MaxPooling2D, UpSampling2D, concatenate, Dropout\n",
        "from tensorflow.keras.models import Model\n",
        "from tensorflow.keras import backend as K\n",
        "from os import listdir\n",
        "from os.path import isfile, join\n",
        "import numpy as np\n",
        "import cv2\n",
        "from google.colab.patches import cv2_imshow\n"
      ],
      "execution_count": 1,
      "outputs": [
        {
          "output_type": "stream",
          "text": [
            "Drive already mounted at /content/drive; to attempt to forcibly remount, call drive.mount(\"/content/drive\", force_remount=True).\n"
          ],
          "name": "stdout"
        },
        {
          "output_type": "display_data",
          "data": {
            "text/html": [
              "<p style=\"color: red;\">\n",
              "The default version of TensorFlow in Colab will soon switch to TensorFlow 2.x.<br>\n",
              "We recommend you <a href=\"https://www.tensorflow.org/guide/migrate\" target=\"_blank\">upgrade</a> now \n",
              "or ensure your notebook will continue to use TensorFlow 1.x via the <code>%tensorflow_version 1.x</code> magic:\n",
              "<a href=\"https://colab.research.google.com/notebooks/tensorflow_version.ipynb\" target=\"_blank\">more info</a>.</p>\n"
            ],
            "text/plain": [
              "<IPython.core.display.HTML object>"
            ]
          },
          "metadata": {
            "tags": []
          }
        }
      ]
    },
    {
      "cell_type": "markdown",
      "metadata": {
        "id": "_ukDaVP8gfQS",
        "colab_type": "text"
      },
      "source": [
        "# Load Dataset\n",
        "\n",
        "1156 Training Images\n",
        "\n",
        "*   578 Brain MRI \n",
        "*   578 Tumor masks\n",
        "\n",
        "126 Validation Images\n",
        "\n",
        "*   63 Brain MRI \n",
        "*   63 Tumor masks"
      ]
    },
    {
      "cell_type": "code",
      "metadata": {
        "id": "21ECX7ZKar6q",
        "colab_type": "code",
        "outputId": "6de1a08a-2066-481f-dc84-a93150253648",
        "colab": {
          "base_uri": "https://localhost:8080/",
          "height": 87
        }
      },
      "source": [
        "def get_images(mypath, size = 256, channels = 1):\n",
        "\n",
        "    onlyfiles = [ f for f in listdir(mypath) if isfile(join(mypath,f)) ]\n",
        "    onlyfiles.sort()\n",
        "    images = np.empty(len(onlyfiles), dtype=object)\n",
        "    images = np.zeros((len(onlyfiles), size, size))\n",
        "\n",
        "    for n in range(len(onlyfiles)):\n",
        "        images[n] = cv2.imread( join(mypath,onlyfiles[n]), 0)\n",
        "        #images[n] = cv2.resize(temp, (size, size), interpolation = cv2.INTER_AREA)\n",
        "        \n",
        "    print(len(images))\n",
        "    return images\n",
        "\n",
        "training_images_path = \"/content/drive/My Drive/Data/images\"\n",
        "training_labels_path = \"/content/drive/My Drive/Data/masks\"\n",
        "validation_images_path = \"/content/drive/My Drive/Dataset MRI/tumor_images\"\n",
        "validation_labels_path = \"/content/drive/My Drive/Dataset MRI/tumor_masks\"\n",
        "\n",
        "training_images = get_images(training_images_path)\n",
        "training_masks = get_images(training_labels_path)\n",
        "validation_images = get_images(validation_images_path)\n",
        "validation_masks = get_images(validation_labels_path)"
      ],
      "execution_count": 2,
      "outputs": [
        {
          "output_type": "stream",
          "text": [
            "578\n",
            "578\n",
            "63\n",
            "63\n"
          ],
          "name": "stdout"
        }
      ]
    },
    {
      "cell_type": "markdown",
      "metadata": {
        "id": "Q5RkkXrghUr2",
        "colab_type": "text"
      },
      "source": [
        "# Dataset Visualization"
      ]
    },
    {
      "cell_type": "code",
      "metadata": {
        "id": "QimP7Z6XbZsg",
        "colab_type": "code",
        "outputId": "6dd6c37a-62bb-4a5f-c041-a41d2db772fa",
        "colab": {
          "base_uri": "https://localhost:8080/",
          "height": 564
        }
      },
      "source": [
        "print(\"MRI\")\n",
        "cv2_imshow(training_images[30])\n",
        "print(\"Tumor Segmentation\")\n",
        "cv2_imshow(training_masks[30])"
      ],
      "execution_count": 3,
      "outputs": [
        {
          "output_type": "stream",
          "text": [
            "MRI\n"
          ],
          "name": "stdout"
        },
        {
          "output_type": "display_data",
          "data": {
            "image/png": "[encoded data removed]",
            "text/plain": [
              "<PIL.Image.Image image mode=L size=256x256 at 0x7F3AC66FDB00>"
            ]
          },
          "metadata": {
            "tags": []
          }
        },
        {
          "output_type": "stream",
          "text": [
            "Tumor Segmentation\n"
          ],
          "name": "stdout"
        },
        {
          "output_type": "display_data",
          "data": {
            "image/png": "[encoded data removed]",
            "text/plain": [
              "<PIL.Image.Image image mode=L size=256x256 at 0x7F3AC66FDB00>"
            ]
          },
          "metadata": {
            "tags": []
          }
        }
      ]
    },
    {
      "cell_type": "markdown",
      "metadata": {
        "id": "1AYfA1zHhofE",
        "colab_type": "text"
      },
      "source": [
        "# Dataset Normalization"
      ]
    },
    {
      "cell_type": "code",
      "metadata": {
        "id": "juEbhcQNoN5S",
        "colab_type": "code",
        "outputId": "70ca0b25-2082-476e-df9f-b8647903d6e8",
        "colab": {
          "base_uri": "https://localhost:8080/",
          "height": 87
        }
      },
      "source": [
        "x_train = training_images.reshape(training_images.shape[0], 256, 256, 1)\n",
        "x_test = validation_images.reshape(validation_images.shape[0], 256, 256, 1)\n",
        "y_train = training_masks.reshape(training_masks.shape[0], 256, 256, 1)\n",
        "y_test = validation_masks.reshape(validation_masks.shape[0], 256, 256, 1)\n",
        "\n",
        "x_train = x_train.astype('float32') / 255.\n",
        "x_test = x_test.astype('float32') / 255.\n",
        "\n",
        "y_train = y_train.astype('float32') / 255.\n",
        "y_test = y_test.astype('float32') / 255.\n",
        "\n",
        "print(x_train.shape)\n",
        "print(y_train.shape)\n",
        "print(x_test.shape)\n",
        "print(y_test.shape)"
      ],
      "execution_count": 4,
      "outputs": [
        {
          "output_type": "stream",
          "text": [
            "(578, 256, 256, 1)\n",
            "(578, 256, 256, 1)\n",
            "(63, 256, 256, 1)\n",
            "(63, 256, 256, 1)\n"
          ],
          "name": "stdout"
        }
      ]
    },
    {
      "cell_type": "markdown",
      "metadata": {
        "id": "MMTBDqB_pMVg",
        "colab_type": "text"
      },
      "source": [
        "# UNET Model"
      ]
    },
    {
      "cell_type": "code",
      "metadata": {
        "id": "Pbh9ijtYmiTV",
        "colab_type": "code",
        "outputId": "cfe566a9-9e69-4ad7-827d-5181be8ab8b7",
        "colab": {
          "base_uri": "https://localhost:8080/",
          "height": 90
        }
      },
      "source": [
        "input_img = Input(shape=(256, 256, 1))\n",
        "\n",
        "# Encoder\n",
        "# Step 1\n",
        "conv1 = Conv2D(64, (3,3), activation = 'relu', padding = 'same')(input_img)\n",
        "conv1 = Conv2D(64, (3,3), activation = 'relu', padding = 'same')(conv1)\n",
        "pool1 = MaxPooling2D(pool_size = (2,2))(conv1)\n",
        "# Step 2\n",
        "conv2 = Conv2D(128, (3,3), activation = 'relu', padding = 'same')(pool1)\n",
        "conv2 = Conv2D(128, (3,3), activation = 'relu', padding = 'same')(conv2)\n",
        "pool2 = MaxPooling2D(pool_size = (2,2))(conv2)\n",
        "# Step 3\n",
        "conv3 = Conv2D(256, (3,3), activation = 'relu', padding = 'same')(pool2)\n",
        "conv3 = Conv2D(256, (3,3), activation = 'relu', padding = 'same')(conv3)\n",
        "pool3 = MaxPooling2D(pool_size = (2,2))(conv3)\n",
        "# Step 4\n",
        "conv4 = Conv2D(512, (3,3), activation = 'relu', padding = 'same')(pool3)\n",
        "conv4 = Conv2D(512, (3,3), activation = 'relu', padding = 'same')(conv4)\n",
        "drop4 = Dropout(0.5)(conv4)\n",
        "pool4 = MaxPooling2D(pool_size = (2,2))(conv4)\n",
        "# Step 5\n",
        "conv5 = Conv2D(1024, (3,3), activation = 'relu', padding = 'same')(pool4)\n",
        "conv5 = Conv2D(1024, (3,3), activation = 'relu', padding = 'same')(conv5)\n",
        "drop5 = Dropout(0.5)(conv5)\n",
        "#pool5 = MaxPooling2D(pool_size = (2,2))(conv5)\n",
        "\n",
        "# Decoder\n",
        "# Step 1\n",
        "up1 = Conv2D(512, 2, activation = 'relu', padding = 'same')(UpSampling2D(size = (2,2))(conv5))\n",
        "conc1 = concatenate([conv4, up1], axis = 3)\n",
        "conv6 = Conv2D(512, (3,3), activation = 'relu', padding = \"same\")(conc1)\n",
        "conv6 = Conv2D(512, (3,3), activation = \"relu\", padding = \"same\")(conv6)\n",
        "# Step 2\n",
        "up2 = Conv2D(256, 2, activation = 'relu', padding = 'same')(UpSampling2D(size = (2,2))(conv6))\n",
        "conc2 = concatenate([conv3, up2], axis = 3)\n",
        "conv7 = Conv2D(256, (3,3), activation = 'relu', padding = \"same\")(conc2)\n",
        "conv7 = Conv2D(256, (3,3), activation = \"relu\", padding = \"same\")(conv7)\n",
        "# Step 3\n",
        "up3 = Conv2D(128, 2, activation = 'relu', padding = 'same')(UpSampling2D(size = (2,2))(conv7))\n",
        "conc3 = concatenate([conv2, up3], axis = 3)\n",
        "conv8 = Conv2D(128, (3,3), activation = 'relu', padding = \"same\")(conc3)\n",
        "conv8 = Conv2D(128, (3,3), activation = \"relu\", padding = \"same\")(conv8)\n",
        "# Step 4\n",
        "up4 = Conv2D(64, 2, activation = 'relu', padding = 'same')(UpSampling2D(size = (2,2))(conv8))\n",
        "conc4 = concatenate([conv1, up4], axis = 3)\n",
        "conv9 = Conv2D(64, (3,3), activation = 'relu', padding = \"same\")(conc4)\n",
        "conv9 = Conv2D(64, (3,3), activation = \"relu\", padding = \"same\")(conv9)\n",
        "conv10 = Conv2D(1, 1, activation = 'sigmoid')(conv9)\n",
        "\n",
        "model = Model(input_img, conv10)"
      ],
      "execution_count": 5,
      "outputs": [
        {
          "output_type": "stream",
          "text": [
            "WARNING:tensorflow:From /usr/local/lib/python3.6/dist-packages/tensorflow_core/python/ops/resource_variable_ops.py:1630: calling BaseResourceVariable.__init__ (from tensorflow.python.ops.resource_variable_ops) with constraint is deprecated and will be removed in a future version.\n",
            "Instructions for updating:\n",
            "If using Keras pass *_constraint arguments to layers.\n"
          ],
          "name": "stdout"
        }
      ]
    },
    {
      "cell_type": "code",
      "metadata": {
        "id": "gIukgZcBLAcE",
        "colab_type": "code",
        "colab": {
          "base_uri": "https://localhost:8080/",
          "height": 1000
        },
        "outputId": "8809d749-a618-4d22-a6b9-e68dee16f8e3"
      },
      "source": [
        "# Compile model\n",
        "model.compile(optimizer = 'adam', loss = 'binary_crossentropy', metrics = ['mse'])\n",
        "model.summary()"
      ],
      "execution_count": 6,
      "outputs": [
        {
          "output_type": "stream",
          "text": [
            "WARNING:tensorflow:From /usr/local/lib/python3.6/dist-packages/tensorflow_core/python/ops/nn_impl.py:183: where (from tensorflow.python.ops.array_ops) is deprecated and will be removed in a future version.\n",
            "Instructions for updating:\n",
            "Use tf.where in 2.0, which has the same broadcast rule as np.where\n",
            "Model: \"model\"\n",
            "__________________________________________________________________________________________________\n",
            "Layer (type)                    Output Shape         Param #     Connected to                     \n",
            "==================================================================================================\n",
            "input_1 (InputLayer)            [(None, 256, 256, 1) 0                                            \n",
            "__________________________________________________________________________________________________\n",
            "conv2d (Conv2D)                 (None, 256, 256, 64) 640         input_1[0][0]                    \n",
            "__________________________________________________________________________________________________\n",
            "conv2d_1 (Conv2D)               (None, 256, 256, 64) 36928       conv2d[0][0]                     \n",
            "__________________________________________________________________________________________________\n",
            "max_pooling2d (MaxPooling2D)    (None, 128, 128, 64) 0           conv2d_1[0][0]                   \n",
            "__________________________________________________________________________________________________\n",
            "conv2d_2 (Conv2D)               (None, 128, 128, 128 73856       max_pooling2d[0][0]              \n",
            "__________________________________________________________________________________________________\n",
            "conv2d_3 (Conv2D)               (None, 128, 128, 128 147584      conv2d_2[0][0]                   \n",
            "__________________________________________________________________________________________________\n",
            "max_pooling2d_1 (MaxPooling2D)  (None, 64, 64, 128)  0           conv2d_3[0][0]                   \n",
            "__________________________________________________________________________________________________\n",
            "conv2d_4 (Conv2D)               (None, 64, 64, 256)  295168      max_pooling2d_1[0][0]            \n",
            "__________________________________________________________________________________________________\n",
            "conv2d_5 (Conv2D)               (None, 64, 64, 256)  590080      conv2d_4[0][0]                   \n",
            "__________________________________________________________________________________________________\n",
            "max_pooling2d_2 (MaxPooling2D)  (None, 32, 32, 256)  0           conv2d_5[0][0]                   \n",
            "__________________________________________________________________________________________________\n",
            "conv2d_6 (Conv2D)               (None, 32, 32, 512)  1180160     max_pooling2d_2[0][0]            \n",
            "__________________________________________________________________________________________________\n",
            "conv2d_7 (Conv2D)               (None, 32, 32, 512)  2359808     conv2d_6[0][0]                   \n",
            "__________________________________________________________________________________________________\n",
            "max_pooling2d_3 (MaxPooling2D)  (None, 16, 16, 512)  0           conv2d_7[0][0]                   \n",
            "__________________________________________________________________________________________________\n",
            "conv2d_8 (Conv2D)               (None, 16, 16, 1024) 4719616     max_pooling2d_3[0][0]            \n",
            "__________________________________________________________________________________________________\n",
            "conv2d_9 (Conv2D)               (None, 16, 16, 1024) 9438208     conv2d_8[0][0]                   \n",
            "__________________________________________________________________________________________________\n",
            "up_sampling2d (UpSampling2D)    (None, 32, 32, 1024) 0           conv2d_9[0][0]                   \n",
            "__________________________________________________________________________________________________\n",
            "conv2d_10 (Conv2D)              (None, 32, 32, 512)  2097664     up_sampling2d[0][0]              \n",
            "__________________________________________________________________________________________________\n",
            "concatenate (Concatenate)       (None, 32, 32, 1024) 0           conv2d_7[0][0]                   \n",
            "                                                                 conv2d_10[0][0]                  \n",
            "__________________________________________________________________________________________________\n",
            "conv2d_11 (Conv2D)              (None, 32, 32, 512)  4719104     concatenate[0][0]                \n",
            "__________________________________________________________________________________________________\n",
            "conv2d_12 (Conv2D)              (None, 32, 32, 512)  2359808     conv2d_11[0][0]                  \n",
            "__________________________________________________________________________________________________\n",
            "up_sampling2d_1 (UpSampling2D)  (None, 64, 64, 512)  0           conv2d_12[0][0]                  \n",
            "__________________________________________________________________________________________________\n",
            "conv2d_13 (Conv2D)              (None, 64, 64, 256)  524544      up_sampling2d_1[0][0]            \n",
            "__________________________________________________________________________________________________\n",
            "concatenate_1 (Concatenate)     (None, 64, 64, 512)  0           conv2d_5[0][0]                   \n",
            "                                                                 conv2d_13[0][0]                  \n",
            "__________________________________________________________________________________________________\n",
            "conv2d_14 (Conv2D)              (None, 64, 64, 256)  1179904     concatenate_1[0][0]              \n",
            "__________________________________________________________________________________________________\n",
            "conv2d_15 (Conv2D)              (None, 64, 64, 256)  590080      conv2d_14[0][0]                  \n",
            "__________________________________________________________________________________________________\n",
            "up_sampling2d_2 (UpSampling2D)  (None, 128, 128, 256 0           conv2d_15[0][0]                  \n",
            "__________________________________________________________________________________________________\n",
            "conv2d_16 (Conv2D)              (None, 128, 128, 128 131200      up_sampling2d_2[0][0]            \n",
            "__________________________________________________________________________________________________\n",
            "concatenate_2 (Concatenate)     (None, 128, 128, 256 0           conv2d_3[0][0]                   \n",
            "                                                                 conv2d_16[0][0]                  \n",
            "__________________________________________________________________________________________________\n",
            "conv2d_17 (Conv2D)              (None, 128, 128, 128 295040      concatenate_2[0][0]              \n",
            "__________________________________________________________________________________________________\n",
            "conv2d_18 (Conv2D)              (None, 128, 128, 128 147584      conv2d_17[0][0]                  \n",
            "__________________________________________________________________________________________________\n",
            "up_sampling2d_3 (UpSampling2D)  (None, 256, 256, 128 0           conv2d_18[0][0]                  \n",
            "__________________________________________________________________________________________________\n",
            "conv2d_19 (Conv2D)              (None, 256, 256, 64) 32832       up_sampling2d_3[0][0]            \n",
            "__________________________________________________________________________________________________\n",
            "concatenate_3 (Concatenate)     (None, 256, 256, 128 0           conv2d_1[0][0]                   \n",
            "                                                                 conv2d_19[0][0]                  \n",
            "__________________________________________________________________________________________________\n",
            "conv2d_20 (Conv2D)              (None, 256, 256, 64) 73792       concatenate_3[0][0]              \n",
            "__________________________________________________________________________________________________\n",
            "conv2d_21 (Conv2D)              (None, 256, 256, 64) 36928       conv2d_20[0][0]                  \n",
            "__________________________________________________________________________________________________\n",
            "conv2d_22 (Conv2D)              (None, 256, 256, 1)  65          conv2d_21[0][0]                  \n",
            "==================================================================================================\n",
            "Total params: 31,030,593\n",
            "Trainable params: 31,030,593\n",
            "Non-trainable params: 0\n",
            "__________________________________________________________________________________________________\n"
          ],
          "name": "stdout"
        }
      ]
    },
    {
      "cell_type": "markdown",
      "metadata": {
        "id": "M_8cyFCZjv3E",
        "colab_type": "text"
      },
      "source": [
        "# Model Training\n",
        "\n"
      ]
    },
    {
      "cell_type": "code",
      "metadata": {
        "id": "w0y06OhGjGsa",
        "colab_type": "code",
        "outputId": "ec5ae8fd-6714-4ae7-8c2e-e13afe7d9856",
        "colab": {
          "base_uri": "https://localhost:8080/",
          "height": 1000
        }
      },
      "source": [
        "model.fit(x_train, y_train,\n",
        "                epochs = 150,\n",
        "                batch_size = 32,\n",
        "                shuffle = True)"
      ],
      "execution_count": 7,
      "outputs": [
        {
          "output_type": "stream",
          "text": [
            "Train on 578 samples\n",
            "Epoch 1/150\n",
            "578/578 [==============================] - 26s 45ms/sample - loss: 2.8601 - mean_squared_error: 0.0990\n",
            "Epoch 2/150\n",
            "578/578 [==============================] - 18s 31ms/sample - loss: 0.0750 - mean_squared_error: 0.0115\n",
            "Epoch 3/150\n",
            "578/578 [==============================] - 18s 31ms/sample - loss: 0.0477 - mean_squared_error: 0.0098\n",
            "Epoch 4/150\n",
            "578/578 [==============================] - 18s 31ms/sample - loss: 0.0374 - mean_squared_error: 0.0091\n",
            "Epoch 5/150\n",
            "578/578 [==============================] - 18s 31ms/sample - loss: 0.0359 - mean_squared_error: 0.0090\n",
            "Epoch 6/150\n",
            "578/578 [==============================] - 18s 31ms/sample - loss: 0.0346 - mean_squared_error: 0.0088\n",
            "Epoch 7/150\n",
            "578/578 [==============================] - 18s 31ms/sample - loss: 0.0352 - mean_squared_error: 0.0088\n",
            "Epoch 8/150\n",
            "578/578 [==============================] - 18s 31ms/sample - loss: 0.0353 - mean_squared_error: 0.0089\n",
            "Epoch 9/150\n",
            "578/578 [==============================] - 18s 31ms/sample - loss: 0.0362 - mean_squared_error: 0.0089\n",
            "Epoch 10/150\n",
            "578/578 [==============================] - 18s 31ms/sample - loss: 0.0336 - mean_squared_error: 0.0087\n",
            "Epoch 11/150\n",
            "578/578 [==============================] - 18s 31ms/sample - loss: 0.0347 - mean_squared_error: 0.0088\n",
            "Epoch 12/150\n",
            "578/578 [==============================] - 18s 31ms/sample - loss: 0.0328 - mean_squared_error: 0.0085\n",
            "Epoch 13/150\n",
            "578/578 [==============================] - 18s 31ms/sample - loss: 0.0312 - mean_squared_error: 0.0082\n",
            "Epoch 14/150\n",
            "578/578 [==============================] - 18s 31ms/sample - loss: 0.0311 - mean_squared_error: 0.0081\n",
            "Epoch 15/150\n",
            "578/578 [==============================] - 18s 31ms/sample - loss: 0.0331 - mean_squared_error: 0.0084\n",
            "Epoch 16/150\n",
            "578/578 [==============================] - 18s 31ms/sample - loss: 0.0352 - mean_squared_error: 0.0083\n",
            "Epoch 17/150\n",
            "578/578 [==============================] - 18s 31ms/sample - loss: 0.0287 - mean_squared_error: 0.0075\n",
            "Epoch 18/150\n",
            "578/578 [==============================] - 18s 31ms/sample - loss: 0.0252 - mean_squared_error: 0.0069\n",
            "Epoch 19/150\n",
            "578/578 [==============================] - 18s 31ms/sample - loss: 0.0283 - mean_squared_error: 0.0073\n",
            "Epoch 20/150\n",
            "578/578 [==============================] - 18s 31ms/sample - loss: 0.0250 - mean_squared_error: 0.0068\n",
            "Epoch 21/150\n",
            "578/578 [==============================] - 18s 31ms/sample - loss: 0.0266 - mean_squared_error: 0.0071\n",
            "Epoch 22/150\n",
            "578/578 [==============================] - 18s 31ms/sample - loss: 0.0268 - mean_squared_error: 0.0070\n",
            "Epoch 23/150\n",
            "578/578 [==============================] - 18s 31ms/sample - loss: 0.0206 - mean_squared_error: 0.0056\n",
            "Epoch 24/150\n",
            "578/578 [==============================] - 18s 31ms/sample - loss: 0.0214 - mean_squared_error: 0.0058\n",
            "Epoch 25/150\n",
            "578/578 [==============================] - 18s 31ms/sample - loss: 0.0193 - mean_squared_error: 0.0053\n",
            "Epoch 26/150\n",
            "578/578 [==============================] - 18s 31ms/sample - loss: 0.0173 - mean_squared_error: 0.0047\n",
            "Epoch 27/150\n",
            "578/578 [==============================] - 18s 31ms/sample - loss: 0.0169 - mean_squared_error: 0.0047\n",
            "Epoch 28/150\n",
            "578/578 [==============================] - 18s 31ms/sample - loss: 0.0171 - mean_squared_error: 0.0046\n",
            "Epoch 29/150\n",
            "578/578 [==============================] - 18s 31ms/sample - loss: 0.0207 - mean_squared_error: 0.0054\n",
            "Epoch 30/150\n",
            "578/578 [==============================] - 18s 31ms/sample - loss: 0.0188 - mean_squared_error: 0.0052\n",
            "Epoch 31/150\n",
            "578/578 [==============================] - 18s 31ms/sample - loss: 0.0164 - mean_squared_error: 0.0045\n",
            "Epoch 32/150\n",
            "578/578 [==============================] - 18s 31ms/sample - loss: 0.0359 - mean_squared_error: 0.0087\n",
            "Epoch 33/150\n",
            "578/578 [==============================] - 18s 31ms/sample - loss: 0.0294 - mean_squared_error: 0.0079\n",
            "Epoch 34/150\n",
            "578/578 [==============================] - 18s 31ms/sample - loss: 0.0257 - mean_squared_error: 0.0071\n",
            "Epoch 35/150\n",
            "578/578 [==============================] - 18s 31ms/sample - loss: 0.0299 - mean_squared_error: 0.0079\n",
            "Epoch 36/150\n",
            "578/578 [==============================] - 18s 31ms/sample - loss: 0.0274 - mean_squared_error: 0.0074\n",
            "Epoch 37/150\n",
            "578/578 [==============================] - 18s 31ms/sample - loss: 0.0249 - mean_squared_error: 0.0068\n",
            "Epoch 38/150\n",
            "578/578 [==============================] - 18s 31ms/sample - loss: 0.0231 - mean_squared_error: 0.0064\n",
            "Epoch 39/150\n",
            "578/578 [==============================] - 18s 31ms/sample - loss: 0.0226 - mean_squared_error: 0.0062\n",
            "Epoch 40/150\n",
            "578/578 [==============================] - 18s 31ms/sample - loss: 0.0186 - mean_squared_error: 0.0053\n",
            "Epoch 41/150\n",
            "578/578 [==============================] - 18s 31ms/sample - loss: 0.0169 - mean_squared_error: 0.0048\n",
            "Epoch 42/150\n",
            "578/578 [==============================] - 18s 31ms/sample - loss: 0.0155 - mean_squared_error: 0.0044\n",
            "Epoch 43/150\n",
            "578/578 [==============================] - 18s 31ms/sample - loss: 0.0289 - mean_squared_error: 0.0071\n",
            "Epoch 44/150\n",
            "578/578 [==============================] - 18s 31ms/sample - loss: 0.0233 - mean_squared_error: 0.0063\n",
            "Epoch 45/150\n",
            "578/578 [==============================] - 18s 31ms/sample - loss: 0.0185 - mean_squared_error: 0.0051\n",
            "Epoch 46/150\n",
            "578/578 [==============================] - 18s 31ms/sample - loss: 0.0188 - mean_squared_error: 0.0051\n",
            "Epoch 47/150\n",
            "578/578 [==============================] - 18s 31ms/sample - loss: 0.0227 - mean_squared_error: 0.0059\n",
            "Epoch 48/150\n",
            "578/578 [==============================] - 18s 31ms/sample - loss: 0.0190 - mean_squared_error: 0.0053\n",
            "Epoch 49/150\n",
            "578/578 [==============================] - 18s 31ms/sample - loss: 0.0164 - mean_squared_error: 0.0046\n",
            "Epoch 50/150\n",
            "578/578 [==============================] - 18s 31ms/sample - loss: 0.0151 - mean_squared_error: 0.0043\n",
            "Epoch 51/150\n",
            "578/578 [==============================] - 18s 31ms/sample - loss: 0.0138 - mean_squared_error: 0.0039\n",
            "Epoch 52/150\n",
            "578/578 [==============================] - 18s 31ms/sample - loss: 0.0135 - mean_squared_error: 0.0038\n",
            "Epoch 53/150\n",
            "578/578 [==============================] - 18s 31ms/sample - loss: 0.0123 - mean_squared_error: 0.0036\n",
            "Epoch 54/150\n",
            "578/578 [==============================] - 18s 31ms/sample - loss: 0.0108 - mean_squared_error: 0.0032\n",
            "Epoch 55/150\n",
            "578/578 [==============================] - 18s 31ms/sample - loss: 0.0119 - mean_squared_error: 0.0034\n",
            "Epoch 56/150\n",
            "578/578 [==============================] - 18s 31ms/sample - loss: 0.0114 - mean_squared_error: 0.0032\n",
            "Epoch 57/150\n",
            "578/578 [==============================] - 18s 31ms/sample - loss: 0.0108 - mean_squared_error: 0.0031\n",
            "Epoch 58/150\n",
            "578/578 [==============================] - 18s 31ms/sample - loss: 0.0103 - mean_squared_error: 0.0030\n",
            "Epoch 59/150\n",
            "578/578 [==============================] - 18s 31ms/sample - loss: 0.0090 - mean_squared_error: 0.0026\n",
            "Epoch 60/150\n",
            "578/578 [==============================] - 18s 31ms/sample - loss: 0.0134 - mean_squared_error: 0.0038\n",
            "Epoch 61/150\n",
            "578/578 [==============================] - 18s 31ms/sample - loss: 0.0116 - mean_squared_error: 0.0033\n",
            "Epoch 62/150\n",
            "578/578 [==============================] - 18s 31ms/sample - loss: 0.0103 - mean_squared_error: 0.0030\n",
            "Epoch 63/150\n",
            "578/578 [==============================] - 18s 31ms/sample - loss: 0.0088 - mean_squared_error: 0.0026\n",
            "Epoch 64/150\n",
            "578/578 [==============================] - 18s 31ms/sample - loss: 0.0082 - mean_squared_error: 0.0024\n",
            "Epoch 65/150\n",
            "578/578 [==============================] - 18s 31ms/sample - loss: 0.0078 - mean_squared_error: 0.0023\n",
            "Epoch 66/150\n",
            "578/578 [==============================] - 18s 31ms/sample - loss: 0.0075 - mean_squared_error: 0.0022\n",
            "Epoch 67/150\n",
            "578/578 [==============================] - 18s 31ms/sample - loss: 0.0068 - mean_squared_error: 0.0020\n",
            "Epoch 68/150\n",
            "578/578 [==============================] - 18s 31ms/sample - loss: 0.0066 - mean_squared_error: 0.0020\n",
            "Epoch 69/150\n",
            "578/578 [==============================] - 18s 31ms/sample - loss: 0.0071 - mean_squared_error: 0.0021\n",
            "Epoch 70/150\n",
            "578/578 [==============================] - 18s 31ms/sample - loss: 0.0062 - mean_squared_error: 0.0019\n",
            "Epoch 71/150\n",
            "578/578 [==============================] - 18s 31ms/sample - loss: 0.0113 - mean_squared_error: 0.0032\n",
            "Epoch 72/150\n",
            "578/578 [==============================] - 18s 31ms/sample - loss: 0.0106 - mean_squared_error: 0.0030\n",
            "Epoch 73/150\n",
            "578/578 [==============================] - 18s 31ms/sample - loss: 0.0085 - mean_squared_error: 0.0025\n",
            "Epoch 74/150\n",
            "578/578 [==============================] - 18s 31ms/sample - loss: 0.0082 - mean_squared_error: 0.0023\n",
            "Epoch 75/150\n",
            "578/578 [==============================] - 18s 31ms/sample - loss: 0.0071 - mean_squared_error: 0.0021\n",
            "Epoch 76/150\n",
            "578/578 [==============================] - 18s 31ms/sample - loss: 0.0062 - mean_squared_error: 0.0019\n",
            "Epoch 77/150\n",
            "578/578 [==============================] - 18s 31ms/sample - loss: 0.0057 - mean_squared_error: 0.0017\n",
            "Epoch 78/150\n",
            "578/578 [==============================] - 18s 31ms/sample - loss: 0.0053 - mean_squared_error: 0.0016\n",
            "Epoch 79/150\n",
            "578/578 [==============================] - 18s 31ms/sample - loss: 0.0061 - mean_squared_error: 0.0018\n",
            "Epoch 80/150\n",
            "578/578 [==============================] - 18s 31ms/sample - loss: 0.0054 - mean_squared_error: 0.0016\n",
            "Epoch 81/150\n",
            "578/578 [==============================] - 18s 31ms/sample - loss: 0.0049 - mean_squared_error: 0.0015\n",
            "Epoch 82/150\n",
            "578/578 [==============================] - 18s 31ms/sample - loss: 0.0046 - mean_squared_error: 0.0014\n",
            "Epoch 83/150\n",
            "578/578 [==============================] - 18s 31ms/sample - loss: 0.0051 - mean_squared_error: 0.0015\n",
            "Epoch 84/150\n",
            "578/578 [==============================] - 18s 31ms/sample - loss: 0.0051 - mean_squared_error: 0.0015\n",
            "Epoch 85/150\n",
            "578/578 [==============================] - 18s 31ms/sample - loss: 0.0046 - mean_squared_error: 0.0014\n",
            "Epoch 86/150\n",
            "578/578 [==============================] - 18s 31ms/sample - loss: 0.0075 - mean_squared_error: 0.0021\n",
            "Epoch 87/150\n",
            "578/578 [==============================] - 18s 31ms/sample - loss: 0.0068 - mean_squared_error: 0.0020\n",
            "Epoch 88/150\n",
            "578/578 [==============================] - 18s 31ms/sample - loss: 0.0090 - mean_squared_error: 0.0026\n",
            "Epoch 89/150\n",
            "578/578 [==============================] - 18s 31ms/sample - loss: 0.0070 - mean_squared_error: 0.0020\n",
            "Epoch 90/150\n",
            "578/578 [==============================] - 18s 31ms/sample - loss: 0.0053 - mean_squared_error: 0.0016\n",
            "Epoch 91/150\n",
            "578/578 [==============================] - 18s 31ms/sample - loss: 0.0047 - mean_squared_error: 0.0014\n",
            "Epoch 92/150\n",
            "578/578 [==============================] - 18s 31ms/sample - loss: 0.0043 - mean_squared_error: 0.0013\n",
            "Epoch 93/150\n",
            "578/578 [==============================] - 18s 31ms/sample - loss: 0.0045 - mean_squared_error: 0.0014\n",
            "Epoch 94/150\n",
            "578/578 [==============================] - 18s 31ms/sample - loss: 0.0042 - mean_squared_error: 0.0013\n",
            "Epoch 95/150\n",
            "578/578 [==============================] - 18s 31ms/sample - loss: 0.0039 - mean_squared_error: 0.0012\n",
            "Epoch 96/150\n",
            "578/578 [==============================] - 18s 31ms/sample - loss: 0.0037 - mean_squared_error: 0.0011\n",
            "Epoch 97/150\n",
            "578/578 [==============================] - 18s 31ms/sample - loss: 0.0038 - mean_squared_error: 0.0012\n",
            "Epoch 98/150\n",
            "578/578 [==============================] - 18s 31ms/sample - loss: 0.0039 - mean_squared_error: 0.0012\n",
            "Epoch 99/150\n",
            "578/578 [==============================] - 18s 31ms/sample - loss: 0.0038 - mean_squared_error: 0.0011\n",
            "Epoch 100/150\n",
            "578/578 [==============================] - 18s 31ms/sample - loss: 0.0040 - mean_squared_error: 0.0012\n",
            "Epoch 101/150\n",
            "578/578 [==============================] - 18s 31ms/sample - loss: 0.0037 - mean_squared_error: 0.0011\n",
            "Epoch 102/150\n",
            "578/578 [==============================] - 18s 31ms/sample - loss: 0.0041 - mean_squared_error: 0.0012\n",
            "Epoch 103/150\n",
            "578/578 [==============================] - 18s 31ms/sample - loss: 0.0038 - mean_squared_error: 0.0011\n",
            "Epoch 104/150\n",
            "578/578 [==============================] - 18s 31ms/sample - loss: 0.0036 - mean_squared_error: 0.0011\n",
            "Epoch 105/150\n",
            "578/578 [==============================] - 18s 31ms/sample - loss: 0.0033 - mean_squared_error: 0.0010\n",
            "Epoch 106/150\n",
            "578/578 [==============================] - 18s 31ms/sample - loss: 0.0041 - mean_squared_error: 0.0012\n",
            "Epoch 107/150\n",
            "578/578 [==============================] - 18s 31ms/sample - loss: 0.0061 - mean_squared_error: 0.0018\n",
            "Epoch 108/150\n",
            "578/578 [==============================] - 18s 31ms/sample - loss: 0.0058 - mean_squared_error: 0.0017\n",
            "Epoch 109/150\n",
            "578/578 [==============================] - 18s 31ms/sample - loss: 0.0049 - mean_squared_error: 0.0015\n",
            "Epoch 110/150\n",
            "578/578 [==============================] - 18s 31ms/sample - loss: 0.0040 - mean_squared_error: 0.0012\n",
            "Epoch 111/150\n",
            "578/578 [==============================] - 18s 31ms/sample - loss: 0.0041 - mean_squared_error: 0.0012\n",
            "Epoch 112/150\n",
            "578/578 [==============================] - 18s 31ms/sample - loss: 0.0037 - mean_squared_error: 0.0011\n",
            "Epoch 113/150\n",
            "578/578 [==============================] - 18s 31ms/sample - loss: 0.0033 - mean_squared_error: 9.9903e-04\n",
            "Epoch 114/150\n",
            "578/578 [==============================] - 18s 31ms/sample - loss: 0.0034 - mean_squared_error: 0.0010\n",
            "Epoch 115/150\n",
            "578/578 [==============================] - 18s 31ms/sample - loss: 0.0035 - mean_squared_error: 0.0010\n",
            "Epoch 116/150\n",
            "578/578 [==============================] - 18s 31ms/sample - loss: 0.0033 - mean_squared_error: 9.9860e-04\n",
            "Epoch 117/150\n",
            "578/578 [==============================] - 18s 31ms/sample - loss: 0.0034 - mean_squared_error: 0.0010\n",
            "Epoch 118/150\n",
            "578/578 [==============================] - 18s 31ms/sample - loss: 0.0037 - mean_squared_error: 0.0011\n",
            "Epoch 119/150\n",
            "578/578 [==============================] - 18s 31ms/sample - loss: 0.0043 - mean_squared_error: 0.0013\n",
            "Epoch 120/150\n",
            "578/578 [==============================] - 18s 31ms/sample - loss: 0.0040 - mean_squared_error: 0.0012\n",
            "Epoch 121/150\n",
            "578/578 [==============================] - 18s 31ms/sample - loss: 0.0032 - mean_squared_error: 9.7845e-04\n",
            "Epoch 122/150\n",
            "578/578 [==============================] - 18s 31ms/sample - loss: 0.0030 - mean_squared_error: 9.1277e-04\n",
            "Epoch 123/150\n",
            "578/578 [==============================] - 18s 31ms/sample - loss: 0.0029 - mean_squared_error: 8.6996e-04\n",
            "Epoch 124/150\n",
            "578/578 [==============================] - 18s 31ms/sample - loss: 0.0028 - mean_squared_error: 8.4304e-04\n",
            "Epoch 125/150\n",
            "578/578 [==============================] - 18s 31ms/sample - loss: 0.0026 - mean_squared_error: 7.9549e-04\n",
            "Epoch 126/150\n",
            "578/578 [==============================] - 18s 31ms/sample - loss: 0.0028 - mean_squared_error: 8.3181e-04\n",
            "Epoch 127/150\n",
            "578/578 [==============================] - 18s 31ms/sample - loss: 0.0026 - mean_squared_error: 7.9314e-04\n",
            "Epoch 128/150\n",
            "578/578 [==============================] - 18s 31ms/sample - loss: 0.0036 - mean_squared_error: 0.0011\n",
            "Epoch 129/150\n",
            "578/578 [==============================] - 18s 31ms/sample - loss: 0.0035 - mean_squared_error: 0.0010\n",
            "Epoch 130/150\n",
            "578/578 [==============================] - 18s 31ms/sample - loss: 0.0029 - mean_squared_error: 8.8026e-04\n",
            "Epoch 131/150\n",
            "578/578 [==============================] - 18s 31ms/sample - loss: 0.0027 - mean_squared_error: 8.1529e-04\n",
            "Epoch 132/150\n",
            "578/578 [==============================] - 18s 31ms/sample - loss: 0.0034 - mean_squared_error: 0.0010\n",
            "Epoch 133/150\n",
            "578/578 [==============================] - 18s 31ms/sample - loss: 0.0045 - mean_squared_error: 0.0013\n",
            "Epoch 134/150\n",
            "578/578 [==============================] - 18s 31ms/sample - loss: 0.0034 - mean_squared_error: 0.0010\n",
            "Epoch 135/150\n",
            "578/578 [==============================] - 18s 31ms/sample - loss: 0.0033 - mean_squared_error: 9.9676e-04\n",
            "Epoch 136/150\n",
            "578/578 [==============================] - 18s 31ms/sample - loss: 0.0028 - mean_squared_error: 8.5912e-04\n",
            "Epoch 137/150\n",
            "578/578 [==============================] - 18s 31ms/sample - loss: 0.0025 - mean_squared_error: 7.5835e-04\n",
            "Epoch 138/150\n",
            "578/578 [==============================] - 18s 31ms/sample - loss: 0.0026 - mean_squared_error: 7.8355e-04\n",
            "Epoch 139/150\n",
            "578/578 [==============================] - 18s 31ms/sample - loss: 0.0026 - mean_squared_error: 7.9378e-04\n",
            "Epoch 140/150\n",
            "578/578 [==============================] - 18s 31ms/sample - loss: 0.0031 - mean_squared_error: 9.4229e-04\n",
            "Epoch 141/150\n",
            "578/578 [==============================] - 18s 31ms/sample - loss: 0.0026 - mean_squared_error: 7.9083e-04\n",
            "Epoch 142/150\n",
            "578/578 [==============================] - 18s 31ms/sample - loss: 0.0029 - mean_squared_error: 8.7312e-04\n",
            "Epoch 143/150\n",
            "578/578 [==============================] - 18s 31ms/sample - loss: 0.0027 - mean_squared_error: 8.0342e-04\n",
            "Epoch 144/150\n",
            "578/578 [==============================] - 18s 31ms/sample - loss: 0.0026 - mean_squared_error: 7.8180e-04\n",
            "Epoch 145/150\n",
            "578/578 [==============================] - 18s 31ms/sample - loss: 0.0025 - mean_squared_error: 7.4448e-04\n",
            "Epoch 146/150\n",
            "578/578 [==============================] - 18s 31ms/sample - loss: 0.0023 - mean_squared_error: 6.9801e-04\n",
            "Epoch 147/150\n",
            "578/578 [==============================] - 18s 31ms/sample - loss: 0.0021 - mean_squared_error: 6.4028e-04\n",
            "Epoch 148/150\n",
            "578/578 [==============================] - 18s 31ms/sample - loss: 0.0020 - mean_squared_error: 6.0819e-04\n",
            "Epoch 149/150\n",
            "578/578 [==============================] - 18s 31ms/sample - loss: 0.0019 - mean_squared_error: 5.8216e-04\n",
            "Epoch 150/150\n",
            "578/578 [==============================] - 18s 31ms/sample - loss: 0.0021 - mean_squared_error: 6.2201e-04\n"
          ],
          "name": "stdout"
        },
        {
          "output_type": "execute_result",
          "data": {
            "text/plain": [
              "<tensorflow.python.keras.callbacks.History at 0x7f3a7e8448d0>"
            ]
          },
          "metadata": {
            "tags": []
          },
          "execution_count": 7
        }
      ]
    },
    {
      "cell_type": "markdown",
      "metadata": {
        "id": "UH2UB96ykBzu",
        "colab_type": "text"
      },
      "source": [
        "# Visualize Results\n",
        "\n",
        "\n",
        "\n",
        "*   1st row: MRI\n",
        "*   2nd row: Ground Truth\n",
        "*   3rd row: Prediction\n",
        "\n"
      ]
    },
    {
      "cell_type": "code",
      "metadata": {
        "id": "ZbFvW5gHBExQ",
        "colab_type": "code",
        "outputId": "07b007f5-8de2-44a7-b114-ae245a48f747",
        "colab": {
          "base_uri": "https://localhost:8080/",
          "height": 272
        }
      },
      "source": [
        "decoded_imgs = model.predict(x_test)\n",
        "t = 256\n",
        "\n",
        "n = 10\n",
        "plt.figure(figsize=(20, 4))\n",
        "for i in range(n):\n",
        "    # MRI\n",
        "    ax = plt.subplot(3, n, i + 1)\n",
        "    plt.imshow(x_test[i+30].reshape(t, t))\n",
        "    plt.gray()\n",
        "    ax.get_xaxis().set_visible(False)\n",
        "    ax.get_yaxis().set_visible(False)\n",
        "\n",
        "    # Ground Truth\n",
        "    ax = plt.subplot(3, n, i + 1 + n)\n",
        "    plt.imshow(y_test[i+30].reshape(t, t))\n",
        "    plt.gray()\n",
        "    ax.get_xaxis().set_visible(False)\n",
        "    ax.get_yaxis().set_visible(False)\n",
        "\n",
        "    # Prediction\n",
        "    ax = plt.subplot(3, n, i + 1 + 2*n)\n",
        "    plt.imshow(decoded_imgs[i+30].reshape(t, t))\n",
        "    plt.gray()\n",
        "    ax.get_xaxis().set_visible(False)\n",
        "    ax.get_yaxis().set_visible(False)\n",
        "\n",
        "plt.savefig('Results.png')\n",
        "plt.show()\n",
        "\n",
        "# 150 epochs"
      ],
      "execution_count": 9,
      "outputs": [
        {
          "output_type": "display_data",
          "data": {
            "image/png": "[encoded data removed]",
            "text/plain": [
              "<Figure size 1440x288 with 30 Axes>"
            ]
          },
          "metadata": {
            "tags": []
          }
        }
      ]
    },
    {
      "cell_type": "code",
      "metadata": {
        "id": "_barwCvZ5lYR",
        "colab_type": "code",
        "colab": {}
      },
      "source": [
        "model.save('Unet_2.h5')"
      ],
      "execution_count": 0,
      "outputs": []
    },
    {
      "cell_type": "code",
      "metadata": {
        "id": "6zrgR5dPkB8R",
        "colab_type": "code",
        "colab": {}
      },
      "source": [
        "weights = model.get_weights()\n",
        "model.save_weights('Unet_2_Weights.h5')"
      ],
      "execution_count": 0,
      "outputs": []
    },
    {
      "cell_type": "code",
      "metadata": {
        "id": "Gg3BQkbD6MA6",
        "colab_type": "code",
        "colab": {}
      },
      "source": [
        ""
      ],
      "execution_count": 0,
      "outputs": []
    }
  ]
}